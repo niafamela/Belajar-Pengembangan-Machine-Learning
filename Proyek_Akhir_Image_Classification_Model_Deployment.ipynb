{
  "cells": [
    {
      "cell_type": "code",
      "execution_count": 3,
      "metadata": {
        "id": "qnWZgxgUCQ6m"
      },
      "outputs": [],
      "source": [
        "import numpy as np\n",
        "import matplotlib.pyplot as plt\n",
        "import os\n",
        "import zipfile\n",
        "import glob \n",
        "import warnings\n",
        "import tensorflow as tf\n",
        "import matplotlib.pyplot as plt\n",
        "import matplotlib.image as mpimg\n",
        "import shutil\n",
        "%matplotlib inline\n",
        "\n",
        "from tensorflow.keras.models import Sequential\n",
        "from tensorflow.keras.layers import Conv2D, MaxPooling2D, Activation, Dense, Flatten\n",
        "from tensorflow.keras.layers import Dropout\n",
        "from tensorflow.keras.preprocessing.image import ImageDataGenerator\n",
        "from keras.preprocessing import image\n",
        "from google.colab import files\n",
        "from PIL import Image"
      ]
    },
    {
      "cell_type": "code",
      "execution_count": 5,
      "metadata": {
        "id": "WM_HpHraCSjz"
      },
      "outputs": [],
      "source": [
        "!pip install -q kaggle"
      ]
    },
    {
      "cell_type": "code",
      "execution_count": 6,
      "metadata": {
        "colab": {
          "base_uri": "https://localhost:8080/",
          "height": 90
        },
        "id": "er2vW_GVCX6h",
        "outputId": "31fa8c55-91b1-43ba-d4d4-0bc249e2c777"
      },
      "outputs": [
        {
          "output_type": "display_data",
          "data": {
            "text/plain": [
              "<IPython.core.display.HTML object>"
            ],
            "text/html": [
              "\n",
              "     <input type=\"file\" id=\"files-670e73f4-f31c-4688-ae11-8387268ee374\" name=\"files[]\" multiple disabled\n",
              "        style=\"border:none\" />\n",
              "     <output id=\"result-670e73f4-f31c-4688-ae11-8387268ee374\">\n",
              "      Upload widget is only available when the cell has been executed in the\n",
              "      current browser session. Please rerun this cell to enable.\n",
              "      </output>\n",
              "      <script>// Copyright 2017 Google LLC\n",
              "//\n",
              "// Licensed under the Apache License, Version 2.0 (the \"License\");\n",
              "// you may not use this file except in compliance with the License.\n",
              "// You may obtain a copy of the License at\n",
              "//\n",
              "//      http://www.apache.org/licenses/LICENSE-2.0\n",
              "//\n",
              "// Unless required by applicable law or agreed to in writing, software\n",
              "// distributed under the License is distributed on an \"AS IS\" BASIS,\n",
              "// WITHOUT WARRANTIES OR CONDITIONS OF ANY KIND, either express or implied.\n",
              "// See the License for the specific language governing permissions and\n",
              "// limitations under the License.\n",
              "\n",
              "/**\n",
              " * @fileoverview Helpers for google.colab Python module.\n",
              " */\n",
              "(function(scope) {\n",
              "function span(text, styleAttributes = {}) {\n",
              "  const element = document.createElement('span');\n",
              "  element.textContent = text;\n",
              "  for (const key of Object.keys(styleAttributes)) {\n",
              "    element.style[key] = styleAttributes[key];\n",
              "  }\n",
              "  return element;\n",
              "}\n",
              "\n",
              "// Max number of bytes which will be uploaded at a time.\n",
              "const MAX_PAYLOAD_SIZE = 100 * 1024;\n",
              "\n",
              "function _uploadFiles(inputId, outputId) {\n",
              "  const steps = uploadFilesStep(inputId, outputId);\n",
              "  const outputElement = document.getElementById(outputId);\n",
              "  // Cache steps on the outputElement to make it available for the next call\n",
              "  // to uploadFilesContinue from Python.\n",
              "  outputElement.steps = steps;\n",
              "\n",
              "  return _uploadFilesContinue(outputId);\n",
              "}\n",
              "\n",
              "// This is roughly an async generator (not supported in the browser yet),\n",
              "// where there are multiple asynchronous steps and the Python side is going\n",
              "// to poll for completion of each step.\n",
              "// This uses a Promise to block the python side on completion of each step,\n",
              "// then passes the result of the previous step as the input to the next step.\n",
              "function _uploadFilesContinue(outputId) {\n",
              "  const outputElement = document.getElementById(outputId);\n",
              "  const steps = outputElement.steps;\n",
              "\n",
              "  const next = steps.next(outputElement.lastPromiseValue);\n",
              "  return Promise.resolve(next.value.promise).then((value) => {\n",
              "    // Cache the last promise value to make it available to the next\n",
              "    // step of the generator.\n",
              "    outputElement.lastPromiseValue = value;\n",
              "    return next.value.response;\n",
              "  });\n",
              "}\n",
              "\n",
              "/**\n",
              " * Generator function which is called between each async step of the upload\n",
              " * process.\n",
              " * @param {string} inputId Element ID of the input file picker element.\n",
              " * @param {string} outputId Element ID of the output display.\n",
              " * @return {!Iterable<!Object>} Iterable of next steps.\n",
              " */\n",
              "function* uploadFilesStep(inputId, outputId) {\n",
              "  const inputElement = document.getElementById(inputId);\n",
              "  inputElement.disabled = false;\n",
              "\n",
              "  const outputElement = document.getElementById(outputId);\n",
              "  outputElement.innerHTML = '';\n",
              "\n",
              "  const pickedPromise = new Promise((resolve) => {\n",
              "    inputElement.addEventListener('change', (e) => {\n",
              "      resolve(e.target.files);\n",
              "    });\n",
              "  });\n",
              "\n",
              "  const cancel = document.createElement('button');\n",
              "  inputElement.parentElement.appendChild(cancel);\n",
              "  cancel.textContent = 'Cancel upload';\n",
              "  const cancelPromise = new Promise((resolve) => {\n",
              "    cancel.onclick = () => {\n",
              "      resolve(null);\n",
              "    };\n",
              "  });\n",
              "\n",
              "  // Wait for the user to pick the files.\n",
              "  const files = yield {\n",
              "    promise: Promise.race([pickedPromise, cancelPromise]),\n",
              "    response: {\n",
              "      action: 'starting',\n",
              "    }\n",
              "  };\n",
              "\n",
              "  cancel.remove();\n",
              "\n",
              "  // Disable the input element since further picks are not allowed.\n",
              "  inputElement.disabled = true;\n",
              "\n",
              "  if (!files) {\n",
              "    return {\n",
              "      response: {\n",
              "        action: 'complete',\n",
              "      }\n",
              "    };\n",
              "  }\n",
              "\n",
              "  for (const file of files) {\n",
              "    const li = document.createElement('li');\n",
              "    li.append(span(file.name, {fontWeight: 'bold'}));\n",
              "    li.append(span(\n",
              "        `(${file.type || 'n/a'}) - ${file.size} bytes, ` +\n",
              "        `last modified: ${\n",
              "            file.lastModifiedDate ? file.lastModifiedDate.toLocaleDateString() :\n",
              "                                    'n/a'} - `));\n",
              "    const percent = span('0% done');\n",
              "    li.appendChild(percent);\n",
              "\n",
              "    outputElement.appendChild(li);\n",
              "\n",
              "    const fileDataPromise = new Promise((resolve) => {\n",
              "      const reader = new FileReader();\n",
              "      reader.onload = (e) => {\n",
              "        resolve(e.target.result);\n",
              "      };\n",
              "      reader.readAsArrayBuffer(file);\n",
              "    });\n",
              "    // Wait for the data to be ready.\n",
              "    let fileData = yield {\n",
              "      promise: fileDataPromise,\n",
              "      response: {\n",
              "        action: 'continue',\n",
              "      }\n",
              "    };\n",
              "\n",
              "    // Use a chunked sending to avoid message size limits. See b/62115660.\n",
              "    let position = 0;\n",
              "    do {\n",
              "      const length = Math.min(fileData.byteLength - position, MAX_PAYLOAD_SIZE);\n",
              "      const chunk = new Uint8Array(fileData, position, length);\n",
              "      position += length;\n",
              "\n",
              "      const base64 = btoa(String.fromCharCode.apply(null, chunk));\n",
              "      yield {\n",
              "        response: {\n",
              "          action: 'append',\n",
              "          file: file.name,\n",
              "          data: base64,\n",
              "        },\n",
              "      };\n",
              "\n",
              "      let percentDone = fileData.byteLength === 0 ?\n",
              "          100 :\n",
              "          Math.round((position / fileData.byteLength) * 100);\n",
              "      percent.textContent = `${percentDone}% done`;\n",
              "\n",
              "    } while (position < fileData.byteLength);\n",
              "  }\n",
              "\n",
              "  // All done.\n",
              "  yield {\n",
              "    response: {\n",
              "      action: 'complete',\n",
              "    }\n",
              "  };\n",
              "}\n",
              "\n",
              "scope.google = scope.google || {};\n",
              "scope.google.colab = scope.google.colab || {};\n",
              "scope.google.colab._files = {\n",
              "  _uploadFiles,\n",
              "  _uploadFilesContinue,\n",
              "};\n",
              "})(self);\n",
              "</script> "
            ]
          },
          "metadata": {}
        },
        {
          "output_type": "stream",
          "name": "stdout",
          "text": [
            "Saving kaggle.json to kaggle.json\n"
          ]
        },
        {
          "output_type": "execute_result",
          "data": {
            "text/plain": [
              "{'kaggle.json': b'{\"username\":\"niafamelasmnjtk\",\"key\":\"289ecbe4e61835c8d8fb819bf2f94cb2\"}'}"
            ]
          },
          "metadata": {},
          "execution_count": 6
        }
      ],
      "source": [
        "from google.colab import files\n",
        "files.upload()"
      ]
    },
    {
      "cell_type": "code",
      "execution_count": 7,
      "metadata": {
        "colab": {
          "base_uri": "https://localhost:8080/"
        },
        "id": "VoBP2CyeCd52",
        "outputId": "6bcccbef-489d-4311-f2d0-ee6cb71cf874"
      },
      "outputs": [
        {
          "output_type": "stream",
          "name": "stdout",
          "text": [
            "kaggle.json\n"
          ]
        }
      ],
      "source": [
        "!mkdir -p ~/.kaggle\n",
        "!cp kaggle.json ~/.kaggle/\n",
        "!chmod 600 ~/.kaggle/kaggle.json\n",
        "!ls ~/.kaggle"
      ]
    },
    {
      "cell_type": "code",
      "execution_count": 8,
      "metadata": {
        "colab": {
          "base_uri": "https://localhost:8080/"
        },
        "id": "s9cIL0ExClp6",
        "outputId": "f7a5dc64-3c52-4dfe-c629-4fd7516471c1"
      },
      "outputs": [
        {
          "output_type": "stream",
          "name": "stdout",
          "text": [
            "Downloading translated-animals10.zip to /content\n",
            " 99% 582M/586M [00:05<00:00, 106MB/s] \n",
            "100% 586M/586M [00:05<00:00, 112MB/s]\n"
          ]
        }
      ],
      "source": [
        "!kaggle datasets download -d madisona/translated-animals10"
      ]
    },
    {
      "cell_type": "code",
      "execution_count": 9,
      "metadata": {
        "colab": {
          "base_uri": "https://localhost:8080/"
        },
        "id": "cBnDnpZZCq8a",
        "outputId": "fd76e552-7965-40a5-8561-e41b8f58b096"
      },
      "outputs": [
        {
          "output_type": "stream",
          "name": "stdout",
          "text": [
            "animals10\n"
          ]
        }
      ],
      "source": [
        "!mkdir animals_dataset\n",
        "!unzip -qq translated-animals10.zip -d animals_dataset\n",
        "!ls animals_dataset"
      ]
    },
    {
      "cell_type": "code",
      "execution_count": 10,
      "metadata": {
        "id": "pVe37NaiCuel",
        "colab": {
          "base_uri": "https://localhost:8080/"
        },
        "outputId": "e38a1b17-e157-43f2-dd3c-1048f66a1694"
      },
      "outputs": [
        {
          "output_type": "stream",
          "name": "stdout",
          "text": [
            "butterfly  cat\tchicken  cow  dog  elephant  horse  sheep  spider  squirrel\n"
          ]
        }
      ],
      "source": [
        "!ls animals_dataset/animals10/raw-img/"
      ]
    },
    {
      "cell_type": "code",
      "execution_count": 11,
      "metadata": {
        "colab": {
          "base_uri": "https://localhost:8080/"
        },
        "id": "wq8Dx_kBC2FR",
        "outputId": "056db5a6-6365-417f-d6de-b4ab066ae74a"
      },
      "outputs": [
        {
          "output_type": "stream",
          "name": "stdout",
          "text": [
            "['cat', 'elephant', 'butterfly', 'squirrel', 'horse', 'spider', 'sheep', 'dog', 'cow', 'chicken']\n"
          ]
        }
      ],
      "source": [
        "animals_dataset = os.path.join('/content/animals_dataset/animals10/raw-img/')\n",
        "print(os.listdir(animals_dataset))"
      ]
    },
    {
      "cell_type": "code",
      "execution_count": 12,
      "metadata": {
        "id": "J469GAgqC8-Z"
      },
      "outputs": [],
      "source": [
        "ignore_animals_dataset = [ 'cat','butterfly', 'squirrel', 'horse', 'sheep', 'cow']\n",
        "\n",
        "for x in ignore_animals_dataset:\n",
        "  path = os.path.join(animals_dataset, x)\n",
        "  shutil.rmtree(path)"
      ]
    },
    {
      "cell_type": "code",
      "execution_count": 13,
      "metadata": {
        "colab": {
          "base_uri": "https://localhost:8080/"
        },
        "id": "E5Hu9MikDQCF",
        "outputId": "00c242cd-46c2-4d8c-bb76-7ec804175d1e"
      },
      "outputs": [
        {
          "output_type": "stream",
          "name": "stdout",
          "text": [
            "['elephant', 'spider', 'dog', 'chicken']\n"
          ]
        }
      ],
      "source": [
        "list_animal = os.listdir(animals_dataset)\n",
        "print(list_animal)"
      ]
    },
    {
      "cell_type": "code",
      "execution_count": 14,
      "metadata": {
        "colab": {
          "base_uri": "https://localhost:8080/"
        },
        "id": "L9mNYOyBDXRd",
        "outputId": "1c95d106-0d50-409e-9dec-00789af701ea"
      },
      "outputs": [
        {
          "output_type": "stream",
          "name": "stdout",
          "text": [
            "elephant: 1446\n",
            ". (300, 200)\n",
            ". (426, 640)\n",
            ". (300, 300)\n",
            ". (300, 224)\n",
            "\n",
            "\n",
            "spider: 4821\n",
            ". (640, 426)\n",
            ". (200, 300)\n",
            ". (300, 225)\n",
            ". (300, 236)\n",
            "\n",
            "\n",
            "dog: 4863\n",
            ". (225, 300)\n",
            ". (300, 225)\n",
            ". (225, 300)\n",
            ". (300, 300)\n",
            "\n",
            "\n",
            "chicken: 3098\n",
            ". (228, 300)\n",
            ". (300, 200)\n",
            ". (300, 225)\n",
            ". (300, 225)\n",
            "\n",
            "\n",
            "\n",
            "Total Gambar : 14228\n"
          ]
        }
      ],
      "source": [
        "total_gambar = 0\n",
        "\n",
        "for x in list_animal:\n",
        "  dir = os.path.join(animals_dataset, x)\n",
        "  list_gambar = len(os.listdir(dir))\n",
        "  print(x +':', list_gambar)\n",
        "  total_gambar = total_gambar + list_gambar\n",
        "  \n",
        "  img_name = os.listdir(dir)\n",
        "  for z in range(4):\n",
        "    img_path = os.path.join(dir, img_name[z])\n",
        "    img = Image.open(img_path)\n",
        "    print('.',img.size)\n",
        "  print('\\n')\n",
        "\n",
        "print('\\nTotal Gambar :', total_gambar)"
      ]
    },
    {
      "cell_type": "code",
      "execution_count": 15,
      "metadata": {
        "colab": {
          "base_uri": "https://localhost:8080/"
        },
        "id": "i4eHDGzdEDdL",
        "outputId": "6dae1063-5852-430e-a0d4-518e9adba045"
      },
      "outputs": [
        {
          "output_type": "stream",
          "name": "stdout",
          "text": [
            "Found 11384 images belonging to 4 classes.\n",
            "Found 2844 images belonging to 4 classes.\n"
          ]
        }
      ],
      "source": [
        "validation_size = 0.2\n",
        "\n",
        "training_datagen = ImageDataGenerator(\n",
        "    rescale=1 / 255,\n",
        "    rotation_range=40,\n",
        "    width_shift_range=0.2,\n",
        "    height_shift_range=0.2,\n",
        "    shear_range=0.2,\n",
        "    zoom_range=0.2,\n",
        "    horizontal_flip=True,\n",
        "    fill_mode='nearest',\n",
        "    validation_split= validation_size   \n",
        ")\n",
        "\n",
        "training_generator = training_datagen.flow_from_directory(animals_dataset,\n",
        "                                                          batch_size=128,\n",
        "                                                          class_mode='categorical',\n",
        "                                                          target_size=(150, 150),\n",
        "                                                          subset='training')\n",
        " \n",
        "validation_generator = training_datagen.flow_from_directory(animals_dataset,\n",
        "                                                              batch_size=128,\n",
        "                                                              class_mode='categorical',\n",
        "                                                              target_size=(150, 150),\n",
        "                                                              subset='validation')"
      ]
    },
    {
      "cell_type": "code",
      "execution_count": 21,
      "metadata": {
        "id": "z2y6uWy7FZvu"
      },
      "outputs": [],
      "source": [
        "model = tf.keras.models.Sequential([\n",
        "    tf.keras.layers.Conv2D(64, (3,3), activation='relu', input_shape=(150, 150, 3)),\n",
        "    tf.keras.layers.MaxPooling2D(2, 2),\n",
        "    tf.keras.layers.Conv2D(64, (3,3), activation='relu'),\n",
        "    tf.keras.layers.MaxPooling2D(2,2),\n",
        "    tf.keras.layers.Conv2D(128, (3,3), activation='relu'),\n",
        "    tf.keras.layers.MaxPooling2D(2,2),\n",
        "    tf.keras.layers.Conv2D(128, (3,3), activation='relu'),\n",
        "    tf.keras.layers.Flatten(),\n",
        "    tf.keras.layers.Dropout(0.5), \n",
        "    tf.keras.layers.Dense(512, activation='relu'),\n",
        "    tf.keras.layers.Dense(4, activation='softmax'),\n",
        "])"
      ]
    },
    {
      "cell_type": "code",
      "execution_count": 22,
      "metadata": {
        "colab": {
          "base_uri": "https://localhost:8080/"
        },
        "id": "tB-ZPDWiFgh2",
        "outputId": "61605fa7-b6a5-4e6f-ef7a-75bfcb7ec347"
      },
      "outputs": [
        {
          "output_type": "stream",
          "name": "stdout",
          "text": [
            "Model: \"sequential\"\n",
            "_________________________________________________________________\n",
            " Layer (type)                Output Shape              Param #   \n",
            "=================================================================\n",
            " conv2d (Conv2D)             (None, 148, 148, 64)      1792      \n",
            "                                                                 \n",
            " max_pooling2d (MaxPooling2D  (None, 74, 74, 64)       0         \n",
            " )                                                               \n",
            "                                                                 \n",
            " conv2d_1 (Conv2D)           (None, 72, 72, 64)        36928     \n",
            "                                                                 \n",
            " max_pooling2d_1 (MaxPooling  (None, 36, 36, 64)       0         \n",
            " 2D)                                                             \n",
            "                                                                 \n",
            " conv2d_2 (Conv2D)           (None, 34, 34, 128)       73856     \n",
            "                                                                 \n",
            " max_pooling2d_2 (MaxPooling  (None, 17, 17, 128)      0         \n",
            " 2D)                                                             \n",
            "                                                                 \n",
            " conv2d_3 (Conv2D)           (None, 15, 15, 128)       147584    \n",
            "                                                                 \n",
            " flatten (Flatten)           (None, 28800)             0         \n",
            "                                                                 \n",
            " dropout (Dropout)           (None, 28800)             0         \n",
            "                                                                 \n",
            " dense (Dense)               (None, 512)               14746112  \n",
            "                                                                 \n",
            " dense_1 (Dense)             (None, 4)                 2052      \n",
            "                                                                 \n",
            "=================================================================\n",
            "Total params: 15,008,324\n",
            "Trainable params: 15,008,324\n",
            "Non-trainable params: 0\n",
            "_________________________________________________________________\n"
          ]
        }
      ],
      "source": [
        "model.compile(optimizer='adam',\n",
        "              loss='categorical_crossentropy',\n",
        "              metrics = ['accuracy'])\n",
        "\n",
        "model.summary()"
      ]
    },
    {
      "cell_type": "code",
      "execution_count": 23,
      "metadata": {
        "id": "PUTeYWbrFkPg"
      },
      "outputs": [],
      "source": [
        "class myCallback(tf.keras.callbacks.Callback):\n",
        "  def on_epoch_end(self, epoch, logs={}):\n",
        "    if(logs.get('accuracy')>0.90):\n",
        "      self.model.stop_training = True\n",
        "\n",
        "callbacks = myCallback()"
      ]
    },
    {
      "cell_type": "code",
      "execution_count": 24,
      "metadata": {
        "id": "x-Nugsb9FrBJ",
        "colab": {
          "base_uri": "https://localhost:8080/"
        },
        "outputId": "09457390-a05d-4be7-d66c-0d045610f92a"
      },
      "outputs": [
        {
          "output_type": "stream",
          "name": "stdout",
          "text": [
            "Epoch 1/20\n",
            "88/88 [==============================] - 909s 10s/step - loss: 1.2269 - accuracy: 0.4426 - val_loss: 1.2482 - val_accuracy: 0.4940\n",
            "Epoch 2/20\n",
            "88/88 [==============================] - 906s 10s/step - loss: 1.0027 - accuracy: 0.5878 - val_loss: 0.9856 - val_accuracy: 0.5865\n",
            "Epoch 3/20\n",
            "88/88 [==============================] - 895s 10s/step - loss: 0.8527 - accuracy: 0.6642 - val_loss: 0.7630 - val_accuracy: 0.7036\n",
            "Epoch 4/20\n",
            "88/88 [==============================] - 891s 10s/step - loss: 0.7213 - accuracy: 0.7278 - val_loss: 0.6126 - val_accuracy: 0.7655\n",
            "Epoch 5/20\n",
            "88/88 [==============================] - 890s 10s/step - loss: 0.6704 - accuracy: 0.7473 - val_loss: 0.5827 - val_accuracy: 0.7729\n",
            "Epoch 6/20\n",
            "88/88 [==============================] - 885s 10s/step - loss: 0.5928 - accuracy: 0.7805 - val_loss: 0.5329 - val_accuracy: 0.8024\n",
            "Epoch 7/20\n",
            "88/88 [==============================] - 891s 10s/step - loss: 0.5423 - accuracy: 0.7975 - val_loss: 0.4966 - val_accuracy: 0.8129\n",
            "Epoch 8/20\n",
            "88/88 [==============================] - 884s 10s/step - loss: 0.5093 - accuracy: 0.8146 - val_loss: 0.4711 - val_accuracy: 0.8312\n",
            "Epoch 9/20\n",
            "88/88 [==============================] - 883s 10s/step - loss: 0.4845 - accuracy: 0.8222 - val_loss: 0.5519 - val_accuracy: 0.7831\n",
            "Epoch 10/20\n",
            "88/88 [==============================] - 886s 10s/step - loss: 0.4696 - accuracy: 0.8255 - val_loss: 0.4352 - val_accuracy: 0.8446\n",
            "Epoch 11/20\n",
            "88/88 [==============================] - 882s 10s/step - loss: 0.4607 - accuracy: 0.8338 - val_loss: 0.4022 - val_accuracy: 0.8611\n",
            "Epoch 12/20\n",
            "88/88 [==============================] - 880s 10s/step - loss: 0.4328 - accuracy: 0.8411 - val_loss: 0.3968 - val_accuracy: 0.8569\n",
            "Epoch 13/20\n",
            "88/88 [==============================] - 883s 10s/step - loss: 0.4167 - accuracy: 0.8482 - val_loss: 0.4117 - val_accuracy: 0.8520\n",
            "Epoch 14/20\n",
            "88/88 [==============================] - 883s 10s/step - loss: 0.4188 - accuracy: 0.8436 - val_loss: 0.4099 - val_accuracy: 0.8474\n",
            "Epoch 15/20\n",
            "88/88 [==============================] - 883s 10s/step - loss: 0.3900 - accuracy: 0.8582 - val_loss: 0.3687 - val_accuracy: 0.8674\n",
            "Epoch 16/20\n",
            "88/88 [==============================] - 892s 10s/step - loss: 0.3660 - accuracy: 0.8678 - val_loss: 0.4053 - val_accuracy: 0.8509\n",
            "Epoch 17/20\n",
            "88/88 [==============================] - 894s 10s/step - loss: 0.3814 - accuracy: 0.8638 - val_loss: 0.3417 - val_accuracy: 0.8780\n",
            "Epoch 18/20\n",
            "88/88 [==============================] - 898s 10s/step - loss: 0.3399 - accuracy: 0.8746 - val_loss: 0.3632 - val_accuracy: 0.8724\n",
            "Epoch 19/20\n",
            "88/88 [==============================] - 888s 10s/step - loss: 0.3491 - accuracy: 0.8746 - val_loss: 0.3281 - val_accuracy: 0.8854\n",
            "Epoch 20/20\n",
            "88/88 [==============================] - 894s 10s/step - loss: 0.3475 - accuracy: 0.8754 - val_loss: 0.3883 - val_accuracy: 0.8643\n"
          ]
        }
      ],
      "source": [
        "batch_size = 128\n",
        "history = model.fit(training_generator, \n",
        "                    epochs = 20, \n",
        "                    steps_per_epoch = training_generator.samples / batch_size,\n",
        "                    validation_steps = validation_generator.samples / batch_size,\n",
        "                    validation_data = validation_generator, \n",
        "                    verbose = 1,\n",
        "                    callbacks = [callbacks])"
      ]
    },
    {
      "cell_type": "code",
      "source": [
        "plt.plot(history.history['accuracy'])\n",
        "plt.plot(history.history['val_accuracy'])\n",
        "plt.title('Accuracy')\n",
        "plt.ylabel('accuracy')\n",
        "plt.xlabel('epoch')\n",
        "plt.legend(['Training Data', 'Validation Data'], loc='upper left')\n",
        "plt.show()\n",
        "\n",
        "plt.plot(history.history['loss'])\n",
        "plt.plot(history.history['val_loss'])\n",
        "plt.title('Loss')\n",
        "plt.ylabel('loss')\n",
        "plt.xlabel('epoch')\n",
        "plt.legend(['Training Data', 'Validation Data'], loc='upper left')\n",
        "plt.show()"
      ],
      "metadata": {
        "id": "5tUasrw3Hf8q",
        "colab": {
          "base_uri": "https://localhost:8080/",
          "height": 573
        },
        "outputId": "e634a057-1293-422b-e6dd-d3927397b8f4"
      },
      "execution_count": 25,
      "outputs": [
        {
          "output_type": "display_data",
          "data": {
            "text/plain": [
              "<Figure size 432x288 with 1 Axes>"
            ],
            "image/png": "[encoded data removed]"
          },
          "metadata": {
            "needs_background": "light"
          }
        },
        {
          "output_type": "display_data",
          "data": {
            "text/plain": [
              "<Figure size 432x288 with 1 Axes>"
            ],
            "image/png": "[encoded data removed]"
          },
          "metadata": {
            "needs_background": "light"
          }
        }
      ]
    },
    {
      "cell_type": "code",
      "source": [
        "converter = tf.lite.TFLiteConverter.from_keras_model(model)\n",
        "tflite_model = converter.convert()\n",
        "with tf.io.gfile.GFile('model.tflite', 'wb') as f:\n",
        "  f.write(tflite_model)"
      ],
      "metadata": {
        "id": "BeWEbxEf1BFX"
      },
      "execution_count": 26,
      "outputs": []
    }
  ],
  "metadata": {
    "colab": {
      "provenance": [],
      "collapsed_sections": []
    },
    "kernelspec": {
      "display_name": "Python 3",
      "name": "python3"
    },
    "language_info": {
      "name": "python"
    }
  },
  "nbformat": 4,
  "nbformat_minor": 0
}